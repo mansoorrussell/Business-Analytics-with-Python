{
 "cells": [
  {
   "cell_type": "code",
   "execution_count": 2,
   "id": "6a7d1c1d",
   "metadata": {},
   "outputs": [
    {
     "name": "stdout",
     "output_type": "stream",
     "text": [
      "Tax 160000.0\n"
     ]
    }
   ],
   "source": [
    "\n",
    "import pandas as pd\n",
    "df=pd.read_excel(\"Salary question.xlsx\")\n",
    "x=df.loc[0,\"Salary\"]\n",
    "a=df.loc[0,\"age\"]\n",
    "if x<=250000 and a<=60:\n",
    "    y=0\n",
    "if x>250000 and x<=500000 and a<=60:\n",
    "    y=x*10/100\n",
    "if x>500000 and x<=1000000 and a<=60:\n",
    "    y=x*20/100\n",
    "if x>1000000 and a<=60:\n",
    "    y=x*30/100\n",
    "if x<=300000 and a>60 and a<=80:\n",
    "    y=0\n",
    "if x>300000 and x<=500000 and a>60 and a<=80:\n",
    "    y=x*10/100\n",
    "if x>500000 and x<=1000000 and a>60 and a<=80:\n",
    "    y=x*20/100\n",
    "if x>1000000 and a>60 and a<=80:\n",
    "    y=x*30/100\n",
    "if x<=500000 and a>80:\n",
    "    y=0\n",
    "if x>500000 and x<=1000000 and a>80:\n",
    "    y=x*20/100\n",
    "if x>1000000 and a>80 and a<=100:\n",
    "    y=x*30/100\n",
    "print(\"Tax\",y)"
   ]
  },
  {
   "cell_type": "code",
   "execution_count": null,
   "id": "6d2fcf15",
   "metadata": {},
   "outputs": [],
   "source": []
  }
 ],
 "metadata": {
  "kernelspec": {
   "display_name": "Python 3",
   "language": "python",
   "name": "python3"
  },
  "language_info": {
   "codemirror_mode": {
    "name": "ipython",
    "version": 3
   },
   "file_extension": ".py",
   "mimetype": "text/x-python",
   "name": "python",
   "nbconvert_exporter": "python",
   "pygments_lexer": "ipython3",
   "version": "3.8.8"
  }
 },
 "nbformat": 4,
 "nbformat_minor": 5
}
